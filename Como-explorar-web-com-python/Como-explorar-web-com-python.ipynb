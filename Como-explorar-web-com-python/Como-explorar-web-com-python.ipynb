{
 "cells": [
  {
   "cell_type": "markdown",
   "metadata": {},
   "source": [
    "# Pegando o título do texto"
   ]
  },
  {
   "cell_type": "code",
   "execution_count": 1,
   "metadata": {},
   "outputs": [
    {
     "data": {
      "text/plain": [
       "'Example Domain'"
      ]
     },
     "execution_count": 1,
     "metadata": {},
     "output_type": "execute_result"
    }
   ],
   "source": [
    "import requests\n",
    "from bs4 import BeautifulSoup\n",
    "\n",
    "def pegar_conteudo_html(link):\n",
    "    # Aqui será encontrado o arquivo HTML da pagina\n",
    "    # Será retornado o texto do arquivo, assim como pode ser visto com 'CTRL + U'\n",
    "    html_content = requests.get(link)\n",
    "    return html_content.text\n",
    "\n",
    "def pegar_conteudo_do_titulo(link):\n",
    "    html_content = BeautifulSoup(pegar_conteudo_html(link), 'html.parser')\n",
    "    # Em HTML, os títulos são definidos como h1, h2, h3...\n",
    "    title = html_content.find('h1')\n",
    "    title_content = title.get_text()\n",
    "    return title_content\n",
    "\n",
    "pegar_conteudo_do_titulo('http://example.com/')"
   ]
  },
  {
   "cell_type": "markdown",
   "metadata": {},
   "source": [
    "# Pegando título das 5 últimas notícias no Google News"
   ]
  },
  {
   "cell_type": "code",
   "execution_count": 67,
   "metadata": {},
   "outputs": [
    {
     "data": {
      "text/plain": [
       "['Fragata do Brasil escapa de explosão por 10 min; esposa de militar se feriu',\n",
       " 'Os escândalos que fizeram ex-rei da Espanha deixar país que reinou por quase 40 anos',\n",
       " 'Fux declara incompatibilidade para julgar pedido de Witzel que suspenderia impeachment',\n",
       " 'Rodrigo Maia diz que Bolsonaro não cometeu crimes que justifiquem impeachment',\n",
       " 'Inep contrata gráfica por R$ 63 milhões para imprimir prova do Enem 2020']"
      ]
     },
     "execution_count": 67,
     "metadata": {},
     "output_type": "execute_result"
    }
   ],
   "source": [
    "import requests\n",
    "from bs4 import BeautifulSoup\n",
    "\n",
    "def pegar_conteudo_html(link):\n",
    "    # Assim como antes, será encontrado o arquivo HTML da pagina\n",
    "    html_content = requests.get(link)\n",
    "    return html_content.text\n",
    "\n",
    "def pegar_as_noticias(link):\n",
    "    pegar_conteudo_html(link)\n",
    "    html_content = BeautifulSoup(pegar_conteudo_html(link), 'html.parser')\n",
    "    # Separando as primeiras 5 notícias\n",
    "    html_content = html_content.find('div', class_='lBwEZb BL5WZb xP6mwf')\n",
    "    news_list = html_content.find_all('div', limit=7, recursive=False)\n",
    "    news_list = news_list[2:]\n",
    "    return news_list\n",
    "\n",
    "def listar_titulo_das_noticias(link):\n",
    "    news_list = pegar_as_noticias(link)\n",
    "    # Iniciamos uma lista vazia para ser preenchida com os tílulos\n",
    "    titles_list = []\n",
    "    for news in news_list:\n",
    "        news_title = news.find('h3').get_text()\n",
    "        titles_list.append(news_title)\n",
    "    return titles_list\n",
    "    \n",
    "listar_titulo_das_noticias('https://news.google.com/topstories?hl=pt-BR&gl=BR&ceid=BR:pt-419')"
   ]
  }
 ],
 "metadata": {
  "kernelspec": {
   "display_name": "Python 3",
   "language": "python",
   "name": "python3"
  },
  "language_info": {
   "codemirror_mode": {
    "name": "ipython",
    "version": 3
   },
   "file_extension": ".py",
   "mimetype": "text/x-python",
   "name": "python",
   "nbconvert_exporter": "python",
   "pygments_lexer": "ipython3",
   "version": "3.8.3"
  },
  "varInspector": {
   "cols": {
    "lenName": 16,
    "lenType": 16,
    "lenVar": 40
   },
   "kernels_config": {
    "python": {
     "delete_cmd_postfix": "",
     "delete_cmd_prefix": "del ",
     "library": "var_list.py",
     "varRefreshCmd": "print(var_dic_list())"
    },
    "r": {
     "delete_cmd_postfix": ") ",
     "delete_cmd_prefix": "rm(",
     "library": "var_list.r",
     "varRefreshCmd": "cat(var_dic_list()) "
    }
   },
   "types_to_exclude": [
    "module",
    "function",
    "builtin_function_or_method",
    "instance",
    "_Feature"
   ],
   "window_display": false
  }
 },
 "nbformat": 4,
 "nbformat_minor": 4
}
