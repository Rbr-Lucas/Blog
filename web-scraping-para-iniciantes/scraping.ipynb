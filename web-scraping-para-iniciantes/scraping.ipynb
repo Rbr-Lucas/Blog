{
 "metadata": {
  "language_info": {
   "codemirror_mode": {
    "name": "ipython",
    "version": 3
   },
   "file_extension": ".py",
   "mimetype": "text/x-python",
   "name": "python",
   "nbconvert_exporter": "python",
   "pygments_lexer": "ipython3",
   "version": "3.8.5-final"
  },
  "orig_nbformat": 2,
  "kernelspec": {
   "name": "python3",
   "display_name": "Python 3",
   "language": "python"
  }
 },
 "nbformat": 4,
 "nbformat_minor": 2,
 "cells": [
  {
   "cell_type": "code",
   "execution_count": 1,
   "metadata": {},
   "outputs": [],
   "source": [
    "import requests"
   ]
  },
  {
   "cell_type": "code",
   "execution_count": 2,
   "metadata": {},
   "outputs": [],
   "source": [
    "r = requests.get('https://www.pensador.com/frases_de_livros_inspiradoras_marcantes/')"
   ]
  },
  {
   "cell_type": "code",
   "execution_count": 3,
   "metadata": {},
   "outputs": [],
   "source": [
    "conteudo_html = r.text"
   ]
  },
  {
   "cell_type": "code",
   "execution_count": 4,
   "metadata": {},
   "outputs": [],
   "source": [
    "# Importando e parseando os dados\n",
    "from bs4 import BeautifulSoup\n",
    "soup = BeautifulSoup(conteudo_html, 'html.parser')"
   ]
  },
  {
   "cell_type": "code",
   "execution_count": 5,
   "metadata": {},
   "outputs": [],
   "source": [
    "# Separando a div que contém os blockquotes\n",
    "div = soup.find('div', id = 'content')\n",
    "\n",
    "# Criando uma lista com os blockquotes\n",
    "lista_blockquote = div.find_all('blockquote')"
   ]
  },
  {
   "cell_type": "code",
   "execution_count": 6,
   "metadata": {},
   "outputs": [],
   "source": [
    "# Iniciando listas vazias para preencher\n",
    "lista_textos = []\n",
    "lista_fontes = []\n",
    "\n",
    "# Funcao que pega os textos separados\n",
    "def pega_texto(blockquote):\n",
    "    # Tem que falar sobre o get_text()\n",
    "    return blockquote.p.get_text(), blockquote.find('p', class_ = 'autor').get_text()\n",
    "\n",
    "# Para cada blockquote, serao adicionados seus textos e fontes\n",
    "for blockquote in lista_blockquote:\n",
    "    texto, fonte = pega_texto(blockquote)\n",
    "    lista_textos.append(texto)\n",
    "    lista_fontes.append(fonte)"
   ]
  },
  {
   "cell_type": "code",
   "execution_count": 7,
   "metadata": {},
   "outputs": [],
   "source": [
    "# Podemos fazer melhor, vamos separar os livros dos autores\n",
    "lista_livros = []\n",
    "lista_autores = []\n",
    "\n",
    "def pega_titulo(citacao):\n",
    "    # Não queremos o ultimo elemento do array, pois é o autor\n",
    "    livro = citacao.split(',')[:len(citacao.split(',')) - 1]\n",
    "    # Se a lista tiver mais de 1 elemento, basta juntar\n",
    "    if len(livro) > 1:\n",
    "        livro = livro[0] + ',' + livro[1]\n",
    "    else:\n",
    "        livro = livro[0]\n",
    "    return livro\n",
    "\n",
    "def pega_autor(citacao):\n",
    "    return citacao.split(',')[-1][1:]\n",
    "\n",
    "for livro_autor in lista_fontes:\n",
    "    # Para separar cada sting na vírgula\n",
    "    # O primeiro elemento é o livro\n",
    "    livro = pega_titulo(livro_autor)\n",
    "    lista_livros.append(livro)\n",
    "    autor = pega_autor(livro_autor)\n",
    "    lista_autores.append(autor)"
   ]
  },
  {
   "cell_type": "code",
   "execution_count": 8,
   "metadata": {},
   "outputs": [],
   "source": [
    "dicionario = {'TEXTO': lista_textos, 'LIVRO': lista_livros, 'AUTOR': lista_autores}"
   ]
  },
  {
   "cell_type": "code",
   "execution_count": 9,
   "metadata": {},
   "outputs": [],
   "source": [
    "import pandas as pd"
   ]
  },
  {
   "cell_type": "code",
   "execution_count": 10,
   "metadata": {},
   "outputs": [],
   "source": [
    "dados = pd.DataFrame(dicionario)"
   ]
  },
  {
   "cell_type": "code",
   "execution_count": 11,
   "metadata": {},
   "outputs": [
    {
     "output_type": "execute_result",
     "data": {
      "text/plain": [
       "                                                TEXTO  \\\n",
       "0   Só se vê bem com o coração, o essencial é invi...   \n",
       "1   Quando acordei hoje de manhã, eu sabia quem eu...   \n",
       "2   A vida é uma tempestade (...) Um dia você está...   \n",
       "3   As coisas têm vida própria. Tudo é questão de ...   \n",
       "4                     Por você, faria isso mil vezes.   \n",
       "5   Tudo depende do tipo de lente que você utiliza...   \n",
       "6   Palavras são, na minha não tão humilde opinião...   \n",
       "7   Quando os pés estão corretos, todo o resto nos...   \n",
       "8   O amor é a força mais poderosa do universo e q...   \n",
       "9   Cada qual sabe amar a seu modo; o modo pouco i...   \n",
       "10  Às vezes, se apaixonar é a atitude mais corajo...   \n",
       "11                          Também o amor se aprende.   \n",
       "12                Um grande amor vale anos de espera.   \n",
       "13  Meus sentimentos não podem ser reprimidos e pr...   \n",
       "14      Amor não é coisa que se possa pedir a alguém.   \n",
       "15  Você quer um coração? Você não sabe o quão sor...   \n",
       "16  O amor não força nada, ao contrário, ele abre ...   \n",
       "17  Ser feliz é uma responsabilidade muito grande....   \n",
       "18  Nunca podemos julgar a vida dos outros, porque...   \n",
       "19  Pretender-se que a vida dos homens seja sempre...   \n",
       "20  A cegueira também é isto, viver num mundo onde...   \n",
       "21  Você está livre para amar sem qualquer obrigação.   \n",
       "22                          Sentir é estar distraído.   \n",
       "23       Há coisas que são preciosas por não durarem.   \n",
       "24  Renda-se, como eu me rendi. Mergulhe no que vo...   \n",
       "25  O correr da vida embrulha tudo, a vida é assim...   \n",
       "26  Dizem por aí, mas não tenho certeza, que meu s...   \n",
       "27  A primeira coisa que nos diz uma obra de arte ...   \n",
       "28  O número dos hóspedes crescia; os casulos subd...   \n",
       "29  Desinteressado de dinheiro, de glória e posiçã...   \n",
       "30  O amor não se prova, nem se mede. É como Gabri...   \n",
       "31  É feia. Mas é uma flor. Furou o asfalto, o téd...   \n",
       "32  Você pode passar a vida inteira sem perceber q...   \n",
       "33  Esse é o problema da dor. Ela precisa ser sent...   \n",
       "34  (...) Não há monumentos dedicados a mim e o me...   \n",
       "35  Espero que você leve uma vida da qual se orgul...   \n",
       "36  Afinal, de quantas maneiras um coração pode se...   \n",
       "37  Tudo o que temos de decidir é o que fazer com ...   \n",
       "38  Há amores que só podem viver em seu coração, n...   \n",
       "\n",
       "                                                LIVRO  \\\n",
       "0                                  O Pequeno Príncipe   \n",
       "1                        Alice no País das maravilhas   \n",
       "2                             O Conde de Monte Cristo   \n",
       "3                                 Cem Anos de Solidão   \n",
       "4                                  O caçador de Pipas   \n",
       "5                                    O Mundo de Sofia   \n",
       "6                Harry Potter e as Relíquias da Morte   \n",
       "7   As Crônicas de Nárnia: O leão, a feiticeira e ...   \n",
       "8                                     O Melhor de Mim   \n",
       "9                                    Machado de Assis   \n",
       "10                                            A Coroa   \n",
       "11                     Crônica de uma morte anunciada   \n",
       "12                                        Bem Casados   \n",
       "13                              Orgulho e Preconceito   \n",
       "14                             O Diário de Anne Frank   \n",
       "15                                    O Mágico de Oz    \n",
       "16                                           A Cabana   \n",
       "17                                   Um Sopro de Vida   \n",
       "18         Na Margem do Rio Piedra Eu Sentei e Chorei   \n",
       "19                                       Guerra e Paz   \n",
       "20                            Ensaio sobre a Cegueira   \n",
       "21                                           A Cabana   \n",
       "22                 Poemas Completos de Alberto Caeiro   \n",
       "23                             Retrato de Dorian Gray   \n",
       "24                                  A Hora da Estrela   \n",
       "25                             Grande Sertão: Veredas   \n",
       "26                                       Dom Casmurro   \n",
       "27                                        Vidas Secas   \n",
       "28                                          O Cortiço   \n",
       "29                   Triste Fim de Policarpo Quaresma   \n",
       "30                           Gabriela, Cravo e Canela   \n",
       "31                         Carlos Drummond de Andrade   \n",
       "32                                             Um Dia   \n",
       "33                             A Culpa é das Estrelas   \n",
       "34                               Diário de uma Paixão   \n",
       "35                  O Curioso Caso de Benjamin Button   \n",
       "36                                           Lua Nova   \n",
       "37              Senhor dos Anéis, A sociedade do anel   \n",
       "38                          Como eu era antes de você   \n",
       "\n",
       "                       AUTOR  \n",
       "0   Antoine de Saint-Exupéry  \n",
       "1              Lewis Carroll  \n",
       "2            Alexandre Dumas  \n",
       "3     Gabriel García Márquez  \n",
       "4            Khaled Hosseini  \n",
       "5            Jostein Gaarder  \n",
       "6               J.K. Rowling  \n",
       "7                C. S. Lewis  \n",
       "8            Nicholas Sparks  \n",
       "9               Ressurreição  \n",
       "10                Kiera Cass  \n",
       "11    Gabriel García Márquez  \n",
       "12              Nora Roberts  \n",
       "13               Jane Austen  \n",
       "14                Anne Frank  \n",
       "15             L. Frank Baum  \n",
       "16          William P. Young  \n",
       "17         Clarice Lispector  \n",
       "18              Paulo Coelho  \n",
       "19              Liev Tolstoi  \n",
       "20             José Saramago  \n",
       "21          William P. Young  \n",
       "22           Fernando Pessoa  \n",
       "23               Oscar Wilde  \n",
       "24         Clarice Lispector  \n",
       "25            Guimarães Rosa  \n",
       "26          Machado de Assis  \n",
       "27          Graciliano Ramos  \n",
       "28           Aluísio Azevedo  \n",
       "29              Lima Barreto  \n",
       "30               Jorge Amado  \n",
       "31            A Rosa do Povo  \n",
       "32            David Nicholls  \n",
       "33                John Green  \n",
       "34           Nicholas Sparks  \n",
       "35       F. Scott Fitzgerald  \n",
       "36            Stephenie Meye  \n",
       "37            J.R.R. Tolkien  \n",
       "38                Jojo Moyes  "
      ],
      "text/html": "<div>\n<style scoped>\n    .dataframe tbody tr th:only-of-type {\n        vertical-align: middle;\n    }\n\n    .dataframe tbody tr th {\n        vertical-align: top;\n    }\n\n    .dataframe thead th {\n        text-align: right;\n    }\n</style>\n<table border=\"1\" class=\"dataframe\">\n  <thead>\n    <tr style=\"text-align: right;\">\n      <th></th>\n      <th>TEXTO</th>\n      <th>LIVRO</th>\n      <th>AUTOR</th>\n    </tr>\n  </thead>\n  <tbody>\n    <tr>\n      <th>0</th>\n      <td>Só se vê bem com o coração, o essencial é invi...</td>\n      <td>O Pequeno Príncipe</td>\n      <td>Antoine de Saint-Exupéry</td>\n    </tr>\n    <tr>\n      <th>1</th>\n      <td>Quando acordei hoje de manhã, eu sabia quem eu...</td>\n      <td>Alice no País das maravilhas</td>\n      <td>Lewis Carroll</td>\n    </tr>\n    <tr>\n      <th>2</th>\n      <td>A vida é uma tempestade (...) Um dia você está...</td>\n      <td>O Conde de Monte Cristo</td>\n      <td>Alexandre Dumas</td>\n    </tr>\n    <tr>\n      <th>3</th>\n      <td>As coisas têm vida própria. Tudo é questão de ...</td>\n      <td>Cem Anos de Solidão</td>\n      <td>Gabriel García Márquez</td>\n    </tr>\n    <tr>\n      <th>4</th>\n      <td>Por você, faria isso mil vezes.</td>\n      <td>O caçador de Pipas</td>\n      <td>Khaled Hosseini</td>\n    </tr>\n    <tr>\n      <th>5</th>\n      <td>Tudo depende do tipo de lente que você utiliza...</td>\n      <td>O Mundo de Sofia</td>\n      <td>Jostein Gaarder</td>\n    </tr>\n    <tr>\n      <th>6</th>\n      <td>Palavras são, na minha não tão humilde opinião...</td>\n      <td>Harry Potter e as Relíquias da Morte</td>\n      <td>J.K. Rowling</td>\n    </tr>\n    <tr>\n      <th>7</th>\n      <td>Quando os pés estão corretos, todo o resto nos...</td>\n      <td>As Crônicas de Nárnia: O leão, a feiticeira e ...</td>\n      <td>C. S. Lewis</td>\n    </tr>\n    <tr>\n      <th>8</th>\n      <td>O amor é a força mais poderosa do universo e q...</td>\n      <td>O Melhor de Mim</td>\n      <td>Nicholas Sparks</td>\n    </tr>\n    <tr>\n      <th>9</th>\n      <td>Cada qual sabe amar a seu modo; o modo pouco i...</td>\n      <td>Machado de Assis</td>\n      <td>Ressurreição</td>\n    </tr>\n    <tr>\n      <th>10</th>\n      <td>Às vezes, se apaixonar é a atitude mais corajo...</td>\n      <td>A Coroa</td>\n      <td>Kiera Cass</td>\n    </tr>\n    <tr>\n      <th>11</th>\n      <td>Também o amor se aprende.</td>\n      <td>Crônica de uma morte anunciada</td>\n      <td>Gabriel García Márquez</td>\n    </tr>\n    <tr>\n      <th>12</th>\n      <td>Um grande amor vale anos de espera.</td>\n      <td>Bem Casados</td>\n      <td>Nora Roberts</td>\n    </tr>\n    <tr>\n      <th>13</th>\n      <td>Meus sentimentos não podem ser reprimidos e pr...</td>\n      <td>Orgulho e Preconceito</td>\n      <td>Jane Austen</td>\n    </tr>\n    <tr>\n      <th>14</th>\n      <td>Amor não é coisa que se possa pedir a alguém.</td>\n      <td>O Diário de Anne Frank</td>\n      <td>Anne Frank</td>\n    </tr>\n    <tr>\n      <th>15</th>\n      <td>Você quer um coração? Você não sabe o quão sor...</td>\n      <td>O Mágico de Oz</td>\n      <td>L. Frank Baum</td>\n    </tr>\n    <tr>\n      <th>16</th>\n      <td>O amor não força nada, ao contrário, ele abre ...</td>\n      <td>A Cabana</td>\n      <td>William P. Young</td>\n    </tr>\n    <tr>\n      <th>17</th>\n      <td>Ser feliz é uma responsabilidade muito grande....</td>\n      <td>Um Sopro de Vida</td>\n      <td>Clarice Lispector</td>\n    </tr>\n    <tr>\n      <th>18</th>\n      <td>Nunca podemos julgar a vida dos outros, porque...</td>\n      <td>Na Margem do Rio Piedra Eu Sentei e Chorei</td>\n      <td>Paulo Coelho</td>\n    </tr>\n    <tr>\n      <th>19</th>\n      <td>Pretender-se que a vida dos homens seja sempre...</td>\n      <td>Guerra e Paz</td>\n      <td>Liev Tolstoi</td>\n    </tr>\n    <tr>\n      <th>20</th>\n      <td>A cegueira também é isto, viver num mundo onde...</td>\n      <td>Ensaio sobre a Cegueira</td>\n      <td>José Saramago</td>\n    </tr>\n    <tr>\n      <th>21</th>\n      <td>Você está livre para amar sem qualquer obrigação.</td>\n      <td>A Cabana</td>\n      <td>William P. Young</td>\n    </tr>\n    <tr>\n      <th>22</th>\n      <td>Sentir é estar distraído.</td>\n      <td>Poemas Completos de Alberto Caeiro</td>\n      <td>Fernando Pessoa</td>\n    </tr>\n    <tr>\n      <th>23</th>\n      <td>Há coisas que são preciosas por não durarem.</td>\n      <td>Retrato de Dorian Gray</td>\n      <td>Oscar Wilde</td>\n    </tr>\n    <tr>\n      <th>24</th>\n      <td>Renda-se, como eu me rendi. Mergulhe no que vo...</td>\n      <td>A Hora da Estrela</td>\n      <td>Clarice Lispector</td>\n    </tr>\n    <tr>\n      <th>25</th>\n      <td>O correr da vida embrulha tudo, a vida é assim...</td>\n      <td>Grande Sertão: Veredas</td>\n      <td>Guimarães Rosa</td>\n    </tr>\n    <tr>\n      <th>26</th>\n      <td>Dizem por aí, mas não tenho certeza, que meu s...</td>\n      <td>Dom Casmurro</td>\n      <td>Machado de Assis</td>\n    </tr>\n    <tr>\n      <th>27</th>\n      <td>A primeira coisa que nos diz uma obra de arte ...</td>\n      <td>Vidas Secas</td>\n      <td>Graciliano Ramos</td>\n    </tr>\n    <tr>\n      <th>28</th>\n      <td>O número dos hóspedes crescia; os casulos subd...</td>\n      <td>O Cortiço</td>\n      <td>Aluísio Azevedo</td>\n    </tr>\n    <tr>\n      <th>29</th>\n      <td>Desinteressado de dinheiro, de glória e posiçã...</td>\n      <td>Triste Fim de Policarpo Quaresma</td>\n      <td>Lima Barreto</td>\n    </tr>\n    <tr>\n      <th>30</th>\n      <td>O amor não se prova, nem se mede. É como Gabri...</td>\n      <td>Gabriela, Cravo e Canela</td>\n      <td>Jorge Amado</td>\n    </tr>\n    <tr>\n      <th>31</th>\n      <td>É feia. Mas é uma flor. Furou o asfalto, o téd...</td>\n      <td>Carlos Drummond de Andrade</td>\n      <td>A Rosa do Povo</td>\n    </tr>\n    <tr>\n      <th>32</th>\n      <td>Você pode passar a vida inteira sem perceber q...</td>\n      <td>Um Dia</td>\n      <td>David Nicholls</td>\n    </tr>\n    <tr>\n      <th>33</th>\n      <td>Esse é o problema da dor. Ela precisa ser sent...</td>\n      <td>A Culpa é das Estrelas</td>\n      <td>John Green</td>\n    </tr>\n    <tr>\n      <th>34</th>\n      <td>(...) Não há monumentos dedicados a mim e o me...</td>\n      <td>Diário de uma Paixão</td>\n      <td>Nicholas Sparks</td>\n    </tr>\n    <tr>\n      <th>35</th>\n      <td>Espero que você leve uma vida da qual se orgul...</td>\n      <td>O Curioso Caso de Benjamin Button</td>\n      <td>F. Scott Fitzgerald</td>\n    </tr>\n    <tr>\n      <th>36</th>\n      <td>Afinal, de quantas maneiras um coração pode se...</td>\n      <td>Lua Nova</td>\n      <td>Stephenie Meye</td>\n    </tr>\n    <tr>\n      <th>37</th>\n      <td>Tudo o que temos de decidir é o que fazer com ...</td>\n      <td>Senhor dos Anéis, A sociedade do anel</td>\n      <td>J.R.R. Tolkien</td>\n    </tr>\n    <tr>\n      <th>38</th>\n      <td>Há amores que só podem viver em seu coração, n...</td>\n      <td>Como eu era antes de você</td>\n      <td>Jojo Moyes</td>\n    </tr>\n  </tbody>\n</table>\n</div>"
     },
     "metadata": {},
     "execution_count": 11
    }
   ],
   "source": [
    "dados"
   ]
  },
  {
   "cell_type": "code",
   "execution_count": 12,
   "metadata": {},
   "outputs": [],
   "source": [
    "dados.to_csv('./citacoes.csv', index=False, header=True)"
   ]
  }
 ]
}